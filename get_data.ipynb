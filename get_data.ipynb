{
 "cells": [
  {
   "cell_type": "code",
   "execution_count": 2,
   "metadata": {},
   "outputs": [],
   "source": [
    "import numpy as p\n",
    "import pandas as pd\n",
    "import matplotlib.pyplot as plt\n",
    "import h5py"
   ]
  },
  {
   "cell_type": "code",
   "execution_count": 24,
   "metadata": {},
   "outputs": [],
   "source": [
    "def get_data():\n",
    "    with h5py.File(\"train_catvnoncat.h5\", \"r\") as f:\n",
    "        print(f.keys())\n",
    "        train_X = f[\"train_set_x\"].value\n",
    "        train_y = f[\"train_set_y\"].value\n",
    "    \n",
    "    with h5py.File(\"test_catvnoncat.h5\", \"r\") as f:\n",
    "        print(f.keys())\n",
    "        test_X = f[\"test_set_x\"].value\n",
    "        test_y = f[\"test_set_y\"].value\n",
    "        \n",
    "    return (train_X, train_y), (test_X, test_y)"
   ]
  },
  {
   "cell_type": "code",
   "execution_count": 25,
   "metadata": {},
   "outputs": [
    {
     "name": "stdout",
     "output_type": "stream",
     "text": [
      "<KeysViewHDF5 ['list_classes', 'train_set_x', 'train_set_y']>\n",
      "<KeysViewHDF5 ['list_classes', 'test_set_x', 'test_set_y']>\n"
     ]
    },
    {
     "name": "stderr",
     "output_type": "stream",
     "text": [
      "/home/mayank-kapur/anaconda3/lib/python3.7/site-packages/h5py/_hl/dataset.py:313: H5pyDeprecationWarning: dataset.value has been deprecated. Use dataset[()] instead.\n",
      "  \"Use dataset[()] instead.\", H5pyDeprecationWarning)\n"
     ]
    }
   ],
   "source": [
    "train, test = get_data()"
   ]
  },
  {
   "cell_type": "code",
   "execution_count": 27,
   "metadata": {},
   "outputs": [],
   "source": [
    "train_X = train[0]\n",
    "train_y = train[1]\n",
    "test_X = test[0]\n",
    "test_y = test[1]\n"
   ]
  },
  {
   "cell_type": "code",
   "execution_count": 28,
   "metadata": {},
   "outputs": [
    {
     "name": "stdout",
     "output_type": "stream",
     "text": [
      "Number of images in train data:  209\n",
      "Number of images in test data:  50\n"
     ]
    }
   ],
   "source": [
    "print(\"Number of images in train data: \", len(train_X))\n",
    "print(\"Number of images in test data: \", len(test_X))"
   ]
  },
  {
   "cell_type": "code",
   "execution_count": null,
   "metadata": {},
   "outputs": [],
   "source": []
  }
 ],
 "metadata": {
  "kernelspec": {
   "display_name": "Python 3",
   "language": "python",
   "name": "python3"
  },
  "language_info": {
   "codemirror_mode": {
    "name": "ipython",
    "version": 3
   },
   "file_extension": ".py",
   "mimetype": "text/x-python",
   "name": "python",
   "nbconvert_exporter": "python",
   "pygments_lexer": "ipython3",
   "version": "3.7.4"
  }
 },
 "nbformat": 4,
 "nbformat_minor": 2
}
